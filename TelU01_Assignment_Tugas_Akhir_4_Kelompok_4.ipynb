{
 "cells": [
  {
   "cell_type": "markdown",
   "metadata": {
    "id": "bN-_QNlDRyq1"
   },
   "source": [
    "#Import Data"
   ]
  },
  {
   "cell_type": "markdown",
   "metadata": {
    "id": "1DTMFGHJxPfX"
   },
   "source": [
    "link dataset : https://drive.google.com/file/d/1rLBwDexcFhMFdlEha1L_ea3brlDxo5vX/view?usp=sharing"
   ]
  },
  {
   "cell_type": "code",
   "execution_count": 1,
   "metadata": {
    "colab": {
     "base_uri": "https://localhost:8080/"
    },
    "id": "tTxAfm0NBtbX",
    "outputId": "3d24c3e8-1cbb-4e31-ea26-c21fbb06b513"
   },
   "outputs": [],
   "source": [
    "#!gdown --id '1rLBwDexcFhMFdlEha1L_ea3brlDxo5vX'"
   ]
  },
  {
   "cell_type": "code",
   "execution_count": 2,
   "metadata": {
    "colab": {
     "base_uri": "https://localhost:8080/"
    },
    "id": "TnmegETsB7jY",
    "outputId": "1f9cdaba-4b60-41ab-d4eb-10ebb44336b3"
   },
   "outputs": [],
   "source": [
    "#!unzip dataset_kemayoran.zip"
   ]
  },
  {
   "cell_type": "code",
   "execution_count": 3,
   "metadata": {
    "id": "d96w21cIGGy8"
   },
   "outputs": [],
   "source": [
    "import pandas as pd\n",
    "import numpy as np\n",
    "import os\n",
    "import seaborn as sns\n",
    "import matplotlib.pyplot as plt\n",
    "from sklearn.preprocessing import StandardScaler\n",
    "from sklearn.neural_network import MLPRegressor\n",
    "from sklearn.model_selection import train_test_split\n",
    "from sklearn.metrics import mean_squared_error, mean_absolute_error,mean_absolute_percentage_error\n",
    "from scipy.stats import pearsonr"
   ]
  },
  {
   "cell_type": "code",
   "execution_count": 4,
   "metadata": {
    "colab": {
     "base_uri": "https://localhost:8080/"
    },
    "id": "GRkvXvdj6SaU",
    "outputId": "3382e6dd-9a54-4359-b392-de298042c7f1"
   },
   "outputs": [
    {
     "data": {
      "text/plain": [
       "['.ipynb_checkpoints',\n",
       " 'app.py',\n",
       " 'check.py',\n",
       " 'dataset_kemayoran.zip',\n",
       " 'laporan_iklim_harian_apr_2019.xlsx',\n",
       " 'laporan_iklim_harian_apr_2020.xlsx',\n",
       " 'laporan_iklim_harian_aug_2019.xlsx',\n",
       " 'laporan_iklim_harian_aug_2020.xlsx',\n",
       " 'laporan_iklim_harian_des_2019.xlsx',\n",
       " 'laporan_iklim_harian_des_2020.xlsx',\n",
       " 'laporan_iklim_harian_feb_2019.xlsx',\n",
       " 'laporan_iklim_harian_feb_2020.xlsx',\n",
       " 'laporan_iklim_harian_jan_2019.xlsx',\n",
       " 'laporan_iklim_harian_jan_2020.xlsx',\n",
       " 'laporan_iklim_harian_jul_2019.xlsx',\n",
       " 'laporan_iklim_harian_jul_2020.xlsx',\n",
       " 'laporan_iklim_harian_jun_2019.xlsx',\n",
       " 'laporan_iklim_harian_jun_2020.xlsx',\n",
       " 'laporan_iklim_harian_mar_2019.xlsx',\n",
       " 'laporan_iklim_harian_mar_2020.xlsx',\n",
       " 'laporan_iklim_harian_mei_2019.xlsx',\n",
       " 'laporan_iklim_harian_mei_2020.xlsx',\n",
       " 'laporan_iklim_harian_nov_2019.xlsx',\n",
       " 'laporan_iklim_harian_nov_2020.xlsx',\n",
       " 'laporan_iklim_harian_okt_2019.xlsx',\n",
       " 'laporan_iklim_harian_okt_2020.xlsx',\n",
       " 'laporan_iklim_harian_sep_2019.xlsx',\n",
       " 'laporan_iklim_harian_sep_2020.xlsx',\n",
       " 'model.pkl',\n",
       " 'TelU01_Assignment_Tugas_Akhir_4_Kelompok_4.ipynb']"
      ]
     },
     "execution_count": 4,
     "metadata": {},
     "output_type": "execute_result"
    }
   ],
   "source": [
    "path = os.getcwd()\n",
    "files = os.listdir(path)\n",
    "files"
   ]
  },
  {
   "cell_type": "code",
   "execution_count": 5,
   "metadata": {
    "colab": {
     "base_uri": "https://localhost:8080/"
    },
    "id": "dyRxTYSF9plE",
    "outputId": "7452e8e1-f52b-4e17-c37d-a7ae8e50897f"
   },
   "outputs": [
    {
     "data": {
      "text/plain": [
       "['laporan_iklim_harian_apr_2019.xlsx',\n",
       " 'laporan_iklim_harian_apr_2020.xlsx',\n",
       " 'laporan_iklim_harian_aug_2019.xlsx',\n",
       " 'laporan_iklim_harian_aug_2020.xlsx',\n",
       " 'laporan_iklim_harian_des_2019.xlsx',\n",
       " 'laporan_iklim_harian_des_2020.xlsx',\n",
       " 'laporan_iklim_harian_feb_2019.xlsx',\n",
       " 'laporan_iklim_harian_feb_2020.xlsx',\n",
       " 'laporan_iklim_harian_jan_2019.xlsx',\n",
       " 'laporan_iklim_harian_jan_2020.xlsx',\n",
       " 'laporan_iklim_harian_jul_2019.xlsx',\n",
       " 'laporan_iklim_harian_jul_2020.xlsx',\n",
       " 'laporan_iklim_harian_jun_2019.xlsx',\n",
       " 'laporan_iklim_harian_jun_2020.xlsx',\n",
       " 'laporan_iklim_harian_mar_2019.xlsx',\n",
       " 'laporan_iklim_harian_mar_2020.xlsx',\n",
       " 'laporan_iklim_harian_mei_2019.xlsx',\n",
       " 'laporan_iklim_harian_mei_2020.xlsx',\n",
       " 'laporan_iklim_harian_nov_2019.xlsx',\n",
       " 'laporan_iklim_harian_nov_2020.xlsx',\n",
       " 'laporan_iklim_harian_okt_2019.xlsx',\n",
       " 'laporan_iklim_harian_okt_2020.xlsx',\n",
       " 'laporan_iklim_harian_sep_2019.xlsx',\n",
       " 'laporan_iklim_harian_sep_2020.xlsx']"
      ]
     },
     "execution_count": 5,
     "metadata": {},
     "output_type": "execute_result"
    }
   ],
   "source": [
    "files_xlsx = [f for f in files if f[-4:] == 'xlsx']\n",
    "files_xlsx"
   ]
  },
  {
   "cell_type": "code",
   "execution_count": 6,
   "metadata": {
    "id": "aHbrjECCBOXA"
   },
   "outputs": [],
   "source": [
    "df = pd.DataFrame()"
   ]
  },
  {
   "cell_type": "code",
   "execution_count": 7,
   "metadata": {
    "id": "ZnU6AtP6BO3h"
   },
   "outputs": [],
   "source": [
    "for f in files_xlsx:\n",
    "    data = pd.read_excel(f)\n",
    "    df = df.append(data)"
   ]
  },
  {
   "cell_type": "code",
   "execution_count": 8,
   "metadata": {
    "id": "kogHV6W9BVWQ"
   },
   "outputs": [],
   "source": [
    "df = df.reset_index()\n",
    "df = df.drop(['index'],axis=1)"
   ]
  },
  {
   "cell_type": "code",
   "execution_count": 9,
   "metadata": {
    "colab": {
     "base_uri": "https://localhost:8080/",
     "height": 423
    },
    "id": "rVXFsVFKF8kx",
    "outputId": "f1a707d6-f8cf-4acb-cbdd-50192fc9199e"
   },
   "outputs": [
    {
     "data": {
      "text/html": [
       "<div>\n",
       "<style scoped>\n",
       "    .dataframe tbody tr th:only-of-type {\n",
       "        vertical-align: middle;\n",
       "    }\n",
       "\n",
       "    .dataframe tbody tr th {\n",
       "        vertical-align: top;\n",
       "    }\n",
       "\n",
       "    .dataframe thead th {\n",
       "        text-align: right;\n",
       "    }\n",
       "</style>\n",
       "<table border=\"1\" class=\"dataframe\">\n",
       "  <thead>\n",
       "    <tr style=\"text-align: right;\">\n",
       "      <th></th>\n",
       "      <th>Tanggal</th>\n",
       "      <th>Tn</th>\n",
       "      <th>Tx</th>\n",
       "      <th>Tavg</th>\n",
       "      <th>RH_avg</th>\n",
       "      <th>RR</th>\n",
       "      <th>ss</th>\n",
       "      <th>ff_x</th>\n",
       "      <th>ddd_x</th>\n",
       "      <th>ff_avg</th>\n",
       "      <th>ddd_car</th>\n",
       "    </tr>\n",
       "  </thead>\n",
       "  <tbody>\n",
       "    <tr>\n",
       "      <th>0</th>\n",
       "      <td>01-04-2019</td>\n",
       "      <td>26.6</td>\n",
       "      <td>32.6</td>\n",
       "      <td>28.3</td>\n",
       "      <td>76.0</td>\n",
       "      <td>8888.0</td>\n",
       "      <td>4.5</td>\n",
       "      <td>4.0</td>\n",
       "      <td>200.0</td>\n",
       "      <td>2.0</td>\n",
       "      <td>C</td>\n",
       "    </tr>\n",
       "    <tr>\n",
       "      <th>1</th>\n",
       "      <td>02-04-2019</td>\n",
       "      <td>25.0</td>\n",
       "      <td>33.0</td>\n",
       "      <td>27.7</td>\n",
       "      <td>79.0</td>\n",
       "      <td>12.0</td>\n",
       "      <td>5.0</td>\n",
       "      <td>6.0</td>\n",
       "      <td>280.0</td>\n",
       "      <td>2.0</td>\n",
       "      <td>C</td>\n",
       "    </tr>\n",
       "    <tr>\n",
       "      <th>2</th>\n",
       "      <td>03-04-2019</td>\n",
       "      <td>25.0</td>\n",
       "      <td>32.8</td>\n",
       "      <td>28.1</td>\n",
       "      <td>82.0</td>\n",
       "      <td>8.8</td>\n",
       "      <td>6.1</td>\n",
       "      <td>6.0</td>\n",
       "      <td>290.0</td>\n",
       "      <td>2.0</td>\n",
       "      <td>C</td>\n",
       "    </tr>\n",
       "    <tr>\n",
       "      <th>3</th>\n",
       "      <td>04-04-2019</td>\n",
       "      <td>25.2</td>\n",
       "      <td>32.8</td>\n",
       "      <td>29.4</td>\n",
       "      <td>74.0</td>\n",
       "      <td>5.6</td>\n",
       "      <td>7.8</td>\n",
       "      <td>4.0</td>\n",
       "      <td>300.0</td>\n",
       "      <td>2.0</td>\n",
       "      <td>NW</td>\n",
       "    </tr>\n",
       "    <tr>\n",
       "      <th>4</th>\n",
       "      <td>05-04-2019</td>\n",
       "      <td>26.8</td>\n",
       "      <td>32.2</td>\n",
       "      <td>28.5</td>\n",
       "      <td>79.0</td>\n",
       "      <td>8888.0</td>\n",
       "      <td>6.0</td>\n",
       "      <td>5.0</td>\n",
       "      <td>320.0</td>\n",
       "      <td>2.0</td>\n",
       "      <td>C</td>\n",
       "    </tr>\n",
       "    <tr>\n",
       "      <th>...</th>\n",
       "      <td>...</td>\n",
       "      <td>...</td>\n",
       "      <td>...</td>\n",
       "      <td>...</td>\n",
       "      <td>...</td>\n",
       "      <td>...</td>\n",
       "      <td>...</td>\n",
       "      <td>...</td>\n",
       "      <td>...</td>\n",
       "      <td>...</td>\n",
       "      <td>...</td>\n",
       "    </tr>\n",
       "    <tr>\n",
       "      <th>726</th>\n",
       "      <td>26-09-2020</td>\n",
       "      <td>NaN</td>\n",
       "      <td>NaN</td>\n",
       "      <td>NaN</td>\n",
       "      <td>NaN</td>\n",
       "      <td>NaN</td>\n",
       "      <td>NaN</td>\n",
       "      <td>NaN</td>\n",
       "      <td>NaN</td>\n",
       "      <td>NaN</td>\n",
       "      <td>NaN</td>\n",
       "    </tr>\n",
       "    <tr>\n",
       "      <th>727</th>\n",
       "      <td>27-09-2020</td>\n",
       "      <td>NaN</td>\n",
       "      <td>NaN</td>\n",
       "      <td>NaN</td>\n",
       "      <td>NaN</td>\n",
       "      <td>NaN</td>\n",
       "      <td>NaN</td>\n",
       "      <td>NaN</td>\n",
       "      <td>NaN</td>\n",
       "      <td>NaN</td>\n",
       "      <td>NaN</td>\n",
       "    </tr>\n",
       "    <tr>\n",
       "      <th>728</th>\n",
       "      <td>28-09-2020</td>\n",
       "      <td>25.6</td>\n",
       "      <td>34.4</td>\n",
       "      <td>29.4</td>\n",
       "      <td>70.0</td>\n",
       "      <td>2.5</td>\n",
       "      <td>4.5</td>\n",
       "      <td>4.0</td>\n",
       "      <td>80.0</td>\n",
       "      <td>2.0</td>\n",
       "      <td>C</td>\n",
       "    </tr>\n",
       "    <tr>\n",
       "      <th>729</th>\n",
       "      <td>29-09-2020</td>\n",
       "      <td>26.6</td>\n",
       "      <td>32.8</td>\n",
       "      <td>29.7</td>\n",
       "      <td>64.0</td>\n",
       "      <td>0.0</td>\n",
       "      <td>7.6</td>\n",
       "      <td>6.0</td>\n",
       "      <td>330.0</td>\n",
       "      <td>2.0</td>\n",
       "      <td>C</td>\n",
       "    </tr>\n",
       "    <tr>\n",
       "      <th>730</th>\n",
       "      <td>30-09-2020</td>\n",
       "      <td>26.6</td>\n",
       "      <td>34.8</td>\n",
       "      <td>30.3</td>\n",
       "      <td>64.0</td>\n",
       "      <td>NaN</td>\n",
       "      <td>7.2</td>\n",
       "      <td>5.0</td>\n",
       "      <td>90.0</td>\n",
       "      <td>2.0</td>\n",
       "      <td>C</td>\n",
       "    </tr>\n",
       "  </tbody>\n",
       "</table>\n",
       "<p>731 rows × 11 columns</p>\n",
       "</div>"
      ],
      "text/plain": [
       "        Tanggal    Tn    Tx  Tavg  RH_avg      RR   ss  ff_x  ddd_x  ff_avg  \\\n",
       "0    01-04-2019  26.6  32.6  28.3    76.0  8888.0  4.5   4.0  200.0     2.0   \n",
       "1    02-04-2019  25.0  33.0  27.7    79.0    12.0  5.0   6.0  280.0     2.0   \n",
       "2    03-04-2019  25.0  32.8  28.1    82.0     8.8  6.1   6.0  290.0     2.0   \n",
       "3    04-04-2019  25.2  32.8  29.4    74.0     5.6  7.8   4.0  300.0     2.0   \n",
       "4    05-04-2019  26.8  32.2  28.5    79.0  8888.0  6.0   5.0  320.0     2.0   \n",
       "..          ...   ...   ...   ...     ...     ...  ...   ...    ...     ...   \n",
       "726  26-09-2020   NaN   NaN   NaN     NaN     NaN  NaN   NaN    NaN     NaN   \n",
       "727  27-09-2020   NaN   NaN   NaN     NaN     NaN  NaN   NaN    NaN     NaN   \n",
       "728  28-09-2020  25.6  34.4  29.4    70.0     2.5  4.5   4.0   80.0     2.0   \n",
       "729  29-09-2020  26.6  32.8  29.7    64.0     0.0  7.6   6.0  330.0     2.0   \n",
       "730  30-09-2020  26.6  34.8  30.3    64.0     NaN  7.2   5.0   90.0     2.0   \n",
       "\n",
       "    ddd_car  \n",
       "0        C   \n",
       "1        C   \n",
       "2        C   \n",
       "3        NW  \n",
       "4        C   \n",
       "..      ...  \n",
       "726     NaN  \n",
       "727     NaN  \n",
       "728      C   \n",
       "729      C   \n",
       "730      C   \n",
       "\n",
       "[731 rows x 11 columns]"
      ]
     },
     "execution_count": 9,
     "metadata": {},
     "output_type": "execute_result"
    }
   ],
   "source": [
    "df"
   ]
  },
  {
   "cell_type": "markdown",
   "metadata": {
    "id": "m5cTdirlXXnQ"
   },
   "source": [
    "#Validasi Data"
   ]
  },
  {
   "cell_type": "code",
   "execution_count": 10,
   "metadata": {
    "id": "b_Q3e9i3G68O"
   },
   "outputs": [],
   "source": [
    "df['Tanggal'] =  pd.to_datetime(df['Tanggal'])"
   ]
  },
  {
   "cell_type": "code",
   "execution_count": 11,
   "metadata": {
    "colab": {
     "base_uri": "https://localhost:8080/"
    },
    "id": "NG9JHvK8HA1V",
    "outputId": "78b6df7d-e87c-4488-b05d-cd3c492ff546"
   },
   "outputs": [
    {
     "name": "stdout",
     "output_type": "stream",
     "text": [
      "<class 'pandas.core.frame.DataFrame'>\n",
      "RangeIndex: 731 entries, 0 to 730\n",
      "Data columns (total 11 columns):\n",
      " #   Column   Non-Null Count  Dtype         \n",
      "---  ------   --------------  -----         \n",
      " 0   Tanggal  731 non-null    datetime64[ns]\n",
      " 1   Tn       703 non-null    float64       \n",
      " 2   Tx       714 non-null    float64       \n",
      " 3   Tavg     715 non-null    float64       \n",
      " 4   RH_avg   715 non-null    float64       \n",
      " 5   RR       590 non-null    float64       \n",
      " 6   ss       716 non-null    float64       \n",
      " 7   ff_x     718 non-null    float64       \n",
      " 8   ddd_x    718 non-null    float64       \n",
      " 9   ff_avg   718 non-null    float64       \n",
      " 10  ddd_car  718 non-null    object        \n",
      "dtypes: datetime64[ns](1), float64(9), object(1)\n",
      "memory usage: 60.0+ KB\n"
     ]
    }
   ],
   "source": [
    "df.info()"
   ]
  },
  {
   "cell_type": "markdown",
   "metadata": {
    "id": "yDJphbkFWHdh"
   },
   "source": [
    "# Seleksi Fitur Data"
   ]
  },
  {
   "cell_type": "code",
   "execution_count": 12,
   "metadata": {
    "colab": {
     "base_uri": "https://localhost:8080/",
     "height": 506
    },
    "id": "JF7K7p8JMMLJ",
    "outputId": "314a39b3-d796-4499-bc9c-8e340dcaa7dd"
   },
   "outputs": [
    {
     "data": {
      "text/plain": [
       "<matplotlib.axes._subplots.AxesSubplot at 0x652a118>"
      ]
     },
     "execution_count": 12,
     "metadata": {},
     "output_type": "execute_result"
    },
    {
     "data": {
      "image/png": "[encoded data removed]",
      "text/plain": [
       "<Figure size 864x576 with 2 Axes>"
      ]
     },
     "metadata": {
      "needs_background": "light"
     },
     "output_type": "display_data"
    }
   ],
   "source": [
    "plt.figure(figsize=(12,8))\n",
    "sns.heatmap(df.corr(),annot=True)"
   ]
  },
  {
   "cell_type": "markdown",
   "metadata": {
    "id": "l9FiVCYoPVV0"
   },
   "source": [
    "berdasarkan korelasi diatas kami menggunakan 'Tn', 'Tx', 'Tavg', 'RH_avg', 'ss'"
   ]
  },
  {
   "cell_type": "code",
   "execution_count": 13,
   "metadata": {
    "id": "46HqKkPFHL4P"
   },
   "outputs": [],
   "source": [
    "df = df.drop(['RR', 'ff_x','ddd_x','ff_avg','ddd_car'], axis=1)"
   ]
  },
  {
   "cell_type": "code",
   "execution_count": 14,
   "metadata": {
    "colab": {
     "base_uri": "https://localhost:8080/",
     "height": 423
    },
    "id": "irlN82m-IFTJ",
    "outputId": "d037ed10-2e61-4ce7-99bf-f8e67b631987"
   },
   "outputs": [
    {
     "data": {
      "text/html": [
       "<div>\n",
       "<style scoped>\n",
       "    .dataframe tbody tr th:only-of-type {\n",
       "        vertical-align: middle;\n",
       "    }\n",
       "\n",
       "    .dataframe tbody tr th {\n",
       "        vertical-align: top;\n",
       "    }\n",
       "\n",
       "    .dataframe thead th {\n",
       "        text-align: right;\n",
       "    }\n",
       "</style>\n",
       "<table border=\"1\" class=\"dataframe\">\n",
       "  <thead>\n",
       "    <tr style=\"text-align: right;\">\n",
       "      <th></th>\n",
       "      <th>Tanggal</th>\n",
       "      <th>Tn</th>\n",
       "      <th>Tx</th>\n",
       "      <th>Tavg</th>\n",
       "      <th>RH_avg</th>\n",
       "      <th>ss</th>\n",
       "    </tr>\n",
       "  </thead>\n",
       "  <tbody>\n",
       "    <tr>\n",
       "      <th>0</th>\n",
       "      <td>2019-01-04</td>\n",
       "      <td>26.6</td>\n",
       "      <td>32.6</td>\n",
       "      <td>28.3</td>\n",
       "      <td>76.0</td>\n",
       "      <td>4.5</td>\n",
       "    </tr>\n",
       "    <tr>\n",
       "      <th>1</th>\n",
       "      <td>2019-02-04</td>\n",
       "      <td>25.0</td>\n",
       "      <td>33.0</td>\n",
       "      <td>27.7</td>\n",
       "      <td>79.0</td>\n",
       "      <td>5.0</td>\n",
       "    </tr>\n",
       "    <tr>\n",
       "      <th>2</th>\n",
       "      <td>2019-03-04</td>\n",
       "      <td>25.0</td>\n",
       "      <td>32.8</td>\n",
       "      <td>28.1</td>\n",
       "      <td>82.0</td>\n",
       "      <td>6.1</td>\n",
       "    </tr>\n",
       "    <tr>\n",
       "      <th>3</th>\n",
       "      <td>2019-04-04</td>\n",
       "      <td>25.2</td>\n",
       "      <td>32.8</td>\n",
       "      <td>29.4</td>\n",
       "      <td>74.0</td>\n",
       "      <td>7.8</td>\n",
       "    </tr>\n",
       "    <tr>\n",
       "      <th>4</th>\n",
       "      <td>2019-05-04</td>\n",
       "      <td>26.8</td>\n",
       "      <td>32.2</td>\n",
       "      <td>28.5</td>\n",
       "      <td>79.0</td>\n",
       "      <td>6.0</td>\n",
       "    </tr>\n",
       "    <tr>\n",
       "      <th>...</th>\n",
       "      <td>...</td>\n",
       "      <td>...</td>\n",
       "      <td>...</td>\n",
       "      <td>...</td>\n",
       "      <td>...</td>\n",
       "      <td>...</td>\n",
       "    </tr>\n",
       "    <tr>\n",
       "      <th>726</th>\n",
       "      <td>2020-09-26</td>\n",
       "      <td>NaN</td>\n",
       "      <td>NaN</td>\n",
       "      <td>NaN</td>\n",
       "      <td>NaN</td>\n",
       "      <td>NaN</td>\n",
       "    </tr>\n",
       "    <tr>\n",
       "      <th>727</th>\n",
       "      <td>2020-09-27</td>\n",
       "      <td>NaN</td>\n",
       "      <td>NaN</td>\n",
       "      <td>NaN</td>\n",
       "      <td>NaN</td>\n",
       "      <td>NaN</td>\n",
       "    </tr>\n",
       "    <tr>\n",
       "      <th>728</th>\n",
       "      <td>2020-09-28</td>\n",
       "      <td>25.6</td>\n",
       "      <td>34.4</td>\n",
       "      <td>29.4</td>\n",
       "      <td>70.0</td>\n",
       "      <td>4.5</td>\n",
       "    </tr>\n",
       "    <tr>\n",
       "      <th>729</th>\n",
       "      <td>2020-09-29</td>\n",
       "      <td>26.6</td>\n",
       "      <td>32.8</td>\n",
       "      <td>29.7</td>\n",
       "      <td>64.0</td>\n",
       "      <td>7.6</td>\n",
       "    </tr>\n",
       "    <tr>\n",
       "      <th>730</th>\n",
       "      <td>2020-09-30</td>\n",
       "      <td>26.6</td>\n",
       "      <td>34.8</td>\n",
       "      <td>30.3</td>\n",
       "      <td>64.0</td>\n",
       "      <td>7.2</td>\n",
       "    </tr>\n",
       "  </tbody>\n",
       "</table>\n",
       "<p>731 rows × 6 columns</p>\n",
       "</div>"
      ],
      "text/plain": [
       "       Tanggal    Tn    Tx  Tavg  RH_avg   ss\n",
       "0   2019-01-04  26.6  32.6  28.3    76.0  4.5\n",
       "1   2019-02-04  25.0  33.0  27.7    79.0  5.0\n",
       "2   2019-03-04  25.0  32.8  28.1    82.0  6.1\n",
       "3   2019-04-04  25.2  32.8  29.4    74.0  7.8\n",
       "4   2019-05-04  26.8  32.2  28.5    79.0  6.0\n",
       "..         ...   ...   ...   ...     ...  ...\n",
       "726 2020-09-26   NaN   NaN   NaN     NaN  NaN\n",
       "727 2020-09-27   NaN   NaN   NaN     NaN  NaN\n",
       "728 2020-09-28  25.6  34.4  29.4    70.0  4.5\n",
       "729 2020-09-29  26.6  32.8  29.7    64.0  7.6\n",
       "730 2020-09-30  26.6  34.8  30.3    64.0  7.2\n",
       "\n",
       "[731 rows x 6 columns]"
      ]
     },
     "execution_count": 14,
     "metadata": {},
     "output_type": "execute_result"
    }
   ],
   "source": [
    "df"
   ]
  },
  {
   "cell_type": "markdown",
   "metadata": {
    "id": "bWGbBYeFWWUJ"
   },
   "source": [
    "# Data Cleaning"
   ]
  },
  {
   "cell_type": "code",
   "execution_count": 15,
   "metadata": {
    "colab": {
     "base_uri": "https://localhost:8080/"
    },
    "id": "neLyE3i1ILR3",
    "outputId": "4812e341-51f7-45e4-e2ce-efdaf9dae063"
   },
   "outputs": [
    {
     "data": {
      "text/plain": [
       "Tanggal     0\n",
       "Tn         28\n",
       "Tx         17\n",
       "Tavg       16\n",
       "RH_avg     16\n",
       "ss         15\n",
       "dtype: int64"
      ]
     },
     "execution_count": 15,
     "metadata": {},
     "output_type": "execute_result"
    }
   ],
   "source": [
    "df.isna().sum()"
   ]
  },
  {
   "cell_type": "code",
   "execution_count": 16,
   "metadata": {
    "colab": {
     "base_uri": "https://localhost:8080/"
    },
    "id": "28SKKDfUJVO9",
    "outputId": "3560a08b-dc7d-4793-f375-8d8fee301442"
   },
   "outputs": [
    {
     "name": "stderr",
     "output_type": "stream",
     "text": [
      "<ipython-input-16-c61f0c8f89b5>:1: FutureWarning: DataFrame.mean and DataFrame.median with numeric_only=None will include datetime64 and datetime64tz columns in a future version.\n",
      "  df.mean()\n"
     ]
    },
    {
     "data": {
      "text/plain": [
       "Tn        25.869701\n",
       "Tx        32.516106\n",
       "Tavg      28.752587\n",
       "RH_avg    75.201399\n",
       "ss         4.744832\n",
       "dtype: float64"
      ]
     },
     "execution_count": 16,
     "metadata": {},
     "output_type": "execute_result"
    }
   ],
   "source": [
    "df.mean()"
   ]
  },
  {
   "cell_type": "code",
   "execution_count": 17,
   "metadata": {
    "colab": {
     "base_uri": "https://localhost:8080/"
    },
    "id": "fFc1a_ijIoJW",
    "outputId": "22c04ca3-82b0-4559-f883-b36ec1c2e6bd"
   },
   "outputs": [
    {
     "name": "stderr",
     "output_type": "stream",
     "text": [
      "<ipython-input-17-04e87d67d337>:1: FutureWarning: DataFrame.mean and DataFrame.median with numeric_only=None will include datetime64 and datetime64tz columns in a future version.\n",
      "  df = df.fillna(df.mean())\n"
     ]
    }
   ],
   "source": [
    "df = df.fillna(df.mean())"
   ]
  },
  {
   "cell_type": "code",
   "execution_count": 18,
   "metadata": {
    "colab": {
     "base_uri": "https://localhost:8080/"
    },
    "id": "XiPe3pG5IvwF",
    "outputId": "6e3c91b5-5987-4411-fd77-58ceb208c32f"
   },
   "outputs": [
    {
     "data": {
      "text/plain": [
       "Tanggal    0\n",
       "Tn         0\n",
       "Tx         0\n",
       "Tavg       0\n",
       "RH_avg     0\n",
       "ss         0\n",
       "dtype: int64"
      ]
     },
     "execution_count": 18,
     "metadata": {},
     "output_type": "execute_result"
    }
   ],
   "source": [
    "df.isna().sum()"
   ]
  },
  {
   "cell_type": "code",
   "execution_count": 19,
   "metadata": {
    "colab": {
     "base_uri": "https://localhost:8080/",
     "height": 423
    },
    "id": "Bky3tNVaI9W9",
    "outputId": "56907e4e-0925-4554-ea76-4c31f3106509"
   },
   "outputs": [
    {
     "data": {
      "text/html": [
       "<div>\n",
       "<style scoped>\n",
       "    .dataframe tbody tr th:only-of-type {\n",
       "        vertical-align: middle;\n",
       "    }\n",
       "\n",
       "    .dataframe tbody tr th {\n",
       "        vertical-align: top;\n",
       "    }\n",
       "\n",
       "    .dataframe thead th {\n",
       "        text-align: right;\n",
       "    }\n",
       "</style>\n",
       "<table border=\"1\" class=\"dataframe\">\n",
       "  <thead>\n",
       "    <tr style=\"text-align: right;\">\n",
       "      <th></th>\n",
       "      <th>Tanggal</th>\n",
       "      <th>Tn</th>\n",
       "      <th>Tx</th>\n",
       "      <th>Tavg</th>\n",
       "      <th>RH_avg</th>\n",
       "      <th>ss</th>\n",
       "    </tr>\n",
       "  </thead>\n",
       "  <tbody>\n",
       "    <tr>\n",
       "      <th>0</th>\n",
       "      <td>2019-01-04</td>\n",
       "      <td>26.600000</td>\n",
       "      <td>32.600000</td>\n",
       "      <td>28.300000</td>\n",
       "      <td>76.000000</td>\n",
       "      <td>4.500000</td>\n",
       "    </tr>\n",
       "    <tr>\n",
       "      <th>1</th>\n",
       "      <td>2019-02-04</td>\n",
       "      <td>25.000000</td>\n",
       "      <td>33.000000</td>\n",
       "      <td>27.700000</td>\n",
       "      <td>79.000000</td>\n",
       "      <td>5.000000</td>\n",
       "    </tr>\n",
       "    <tr>\n",
       "      <th>2</th>\n",
       "      <td>2019-03-04</td>\n",
       "      <td>25.000000</td>\n",
       "      <td>32.800000</td>\n",
       "      <td>28.100000</td>\n",
       "      <td>82.000000</td>\n",
       "      <td>6.100000</td>\n",
       "    </tr>\n",
       "    <tr>\n",
       "      <th>3</th>\n",
       "      <td>2019-04-04</td>\n",
       "      <td>25.200000</td>\n",
       "      <td>32.800000</td>\n",
       "      <td>29.400000</td>\n",
       "      <td>74.000000</td>\n",
       "      <td>7.800000</td>\n",
       "    </tr>\n",
       "    <tr>\n",
       "      <th>4</th>\n",
       "      <td>2019-05-04</td>\n",
       "      <td>26.800000</td>\n",
       "      <td>32.200000</td>\n",
       "      <td>28.500000</td>\n",
       "      <td>79.000000</td>\n",
       "      <td>6.000000</td>\n",
       "    </tr>\n",
       "    <tr>\n",
       "      <th>...</th>\n",
       "      <td>...</td>\n",
       "      <td>...</td>\n",
       "      <td>...</td>\n",
       "      <td>...</td>\n",
       "      <td>...</td>\n",
       "      <td>...</td>\n",
       "    </tr>\n",
       "    <tr>\n",
       "      <th>726</th>\n",
       "      <td>2020-09-26</td>\n",
       "      <td>25.869701</td>\n",
       "      <td>32.516106</td>\n",
       "      <td>28.752587</td>\n",
       "      <td>75.201399</td>\n",
       "      <td>4.744832</td>\n",
       "    </tr>\n",
       "    <tr>\n",
       "      <th>727</th>\n",
       "      <td>2020-09-27</td>\n",
       "      <td>25.869701</td>\n",
       "      <td>32.516106</td>\n",
       "      <td>28.752587</td>\n",
       "      <td>75.201399</td>\n",
       "      <td>4.744832</td>\n",
       "    </tr>\n",
       "    <tr>\n",
       "      <th>728</th>\n",
       "      <td>2020-09-28</td>\n",
       "      <td>25.600000</td>\n",
       "      <td>34.400000</td>\n",
       "      <td>29.400000</td>\n",
       "      <td>70.000000</td>\n",
       "      <td>4.500000</td>\n",
       "    </tr>\n",
       "    <tr>\n",
       "      <th>729</th>\n",
       "      <td>2020-09-29</td>\n",
       "      <td>26.600000</td>\n",
       "      <td>32.800000</td>\n",
       "      <td>29.700000</td>\n",
       "      <td>64.000000</td>\n",
       "      <td>7.600000</td>\n",
       "    </tr>\n",
       "    <tr>\n",
       "      <th>730</th>\n",
       "      <td>2020-09-30</td>\n",
       "      <td>26.600000</td>\n",
       "      <td>34.800000</td>\n",
       "      <td>30.300000</td>\n",
       "      <td>64.000000</td>\n",
       "      <td>7.200000</td>\n",
       "    </tr>\n",
       "  </tbody>\n",
       "</table>\n",
       "<p>731 rows × 6 columns</p>\n",
       "</div>"
      ],
      "text/plain": [
       "       Tanggal         Tn         Tx       Tavg     RH_avg        ss\n",
       "0   2019-01-04  26.600000  32.600000  28.300000  76.000000  4.500000\n",
       "1   2019-02-04  25.000000  33.000000  27.700000  79.000000  5.000000\n",
       "2   2019-03-04  25.000000  32.800000  28.100000  82.000000  6.100000\n",
       "3   2019-04-04  25.200000  32.800000  29.400000  74.000000  7.800000\n",
       "4   2019-05-04  26.800000  32.200000  28.500000  79.000000  6.000000\n",
       "..         ...        ...        ...        ...        ...       ...\n",
       "726 2020-09-26  25.869701  32.516106  28.752587  75.201399  4.744832\n",
       "727 2020-09-27  25.869701  32.516106  28.752587  75.201399  4.744832\n",
       "728 2020-09-28  25.600000  34.400000  29.400000  70.000000  4.500000\n",
       "729 2020-09-29  26.600000  32.800000  29.700000  64.000000  7.600000\n",
       "730 2020-09-30  26.600000  34.800000  30.300000  64.000000  7.200000\n",
       "\n",
       "[731 rows x 6 columns]"
      ]
     },
     "execution_count": 19,
     "metadata": {},
     "output_type": "execute_result"
    }
   ],
   "source": [
    "df"
   ]
  },
  {
   "cell_type": "code",
   "execution_count": 20,
   "metadata": {
    "colab": {
     "base_uri": "https://localhost:8080/",
     "height": 300
    },
    "id": "AkyaJnitJPOy",
    "outputId": "5429d0f9-e81a-4923-aa84-2e7e358828eb"
   },
   "outputs": [
    {
     "data": {
      "text/html": [
       "<div>\n",
       "<style scoped>\n",
       "    .dataframe tbody tr th:only-of-type {\n",
       "        vertical-align: middle;\n",
       "    }\n",
       "\n",
       "    .dataframe tbody tr th {\n",
       "        vertical-align: top;\n",
       "    }\n",
       "\n",
       "    .dataframe thead th {\n",
       "        text-align: right;\n",
       "    }\n",
       "</style>\n",
       "<table border=\"1\" class=\"dataframe\">\n",
       "  <thead>\n",
       "    <tr style=\"text-align: right;\">\n",
       "      <th></th>\n",
       "      <th>Tn</th>\n",
       "      <th>Tx</th>\n",
       "      <th>Tavg</th>\n",
       "      <th>RH_avg</th>\n",
       "      <th>ss</th>\n",
       "    </tr>\n",
       "  </thead>\n",
       "  <tbody>\n",
       "    <tr>\n",
       "      <th>count</th>\n",
       "      <td>731.000000</td>\n",
       "      <td>731.000000</td>\n",
       "      <td>731.000000</td>\n",
       "      <td>731.000000</td>\n",
       "      <td>731.000000</td>\n",
       "    </tr>\n",
       "    <tr>\n",
       "      <th>mean</th>\n",
       "      <td>25.869701</td>\n",
       "      <td>32.516106</td>\n",
       "      <td>28.752587</td>\n",
       "      <td>75.201399</td>\n",
       "      <td>4.744832</td>\n",
       "    </tr>\n",
       "    <tr>\n",
       "      <th>std</th>\n",
       "      <td>0.901752</td>\n",
       "      <td>1.277296</td>\n",
       "      <td>0.912818</td>\n",
       "      <td>6.276614</td>\n",
       "      <td>2.358787</td>\n",
       "    </tr>\n",
       "    <tr>\n",
       "      <th>min</th>\n",
       "      <td>23.000000</td>\n",
       "      <td>27.400000</td>\n",
       "      <td>25.700000</td>\n",
       "      <td>57.000000</td>\n",
       "      <td>0.000000</td>\n",
       "    </tr>\n",
       "    <tr>\n",
       "      <th>25%</th>\n",
       "      <td>25.000000</td>\n",
       "      <td>31.800000</td>\n",
       "      <td>28.200000</td>\n",
       "      <td>71.000000</td>\n",
       "      <td>3.000000</td>\n",
       "    </tr>\n",
       "    <tr>\n",
       "      <th>50%</th>\n",
       "      <td>26.000000</td>\n",
       "      <td>32.600000</td>\n",
       "      <td>28.800000</td>\n",
       "      <td>75.000000</td>\n",
       "      <td>5.200000</td>\n",
       "    </tr>\n",
       "    <tr>\n",
       "      <th>75%</th>\n",
       "      <td>26.600000</td>\n",
       "      <td>33.400000</td>\n",
       "      <td>29.400000</td>\n",
       "      <td>80.000000</td>\n",
       "      <td>6.500000</td>\n",
       "    </tr>\n",
       "    <tr>\n",
       "      <th>max</th>\n",
       "      <td>28.000000</td>\n",
       "      <td>35.600000</td>\n",
       "      <td>31.200000</td>\n",
       "      <td>92.000000</td>\n",
       "      <td>9.800000</td>\n",
       "    </tr>\n",
       "  </tbody>\n",
       "</table>\n",
       "</div>"
      ],
      "text/plain": [
       "               Tn          Tx        Tavg      RH_avg          ss\n",
       "count  731.000000  731.000000  731.000000  731.000000  731.000000\n",
       "mean    25.869701   32.516106   28.752587   75.201399    4.744832\n",
       "std      0.901752    1.277296    0.912818    6.276614    2.358787\n",
       "min     23.000000   27.400000   25.700000   57.000000    0.000000\n",
       "25%     25.000000   31.800000   28.200000   71.000000    3.000000\n",
       "50%     26.000000   32.600000   28.800000   75.000000    5.200000\n",
       "75%     26.600000   33.400000   29.400000   80.000000    6.500000\n",
       "max     28.000000   35.600000   31.200000   92.000000    9.800000"
      ]
     },
     "execution_count": 20,
     "metadata": {},
     "output_type": "execute_result"
    }
   ],
   "source": [
    "df.describe()"
   ]
  },
  {
   "cell_type": "markdown",
   "metadata": {
    "id": "xZvx_KKVRktC"
   },
   "source": [
    "#Check Outlier"
   ]
  },
  {
   "cell_type": "code",
   "execution_count": 21,
   "metadata": {
    "colab": {
     "base_uri": "https://localhost:8080/",
     "height": 351
    },
    "id": "z2OdBc_sLOj1",
    "outputId": "223b8a7d-17af-4df5-a924-c56c47e2550e"
   },
   "outputs": [
    {
     "name": "stderr",
     "output_type": "stream",
     "text": [
      "c:\\users\\faishal raihan\\appdata\\local\\programs\\python\\python38-32\\lib\\site-packages\\seaborn\\_decorators.py:36: FutureWarning: Pass the following variable as a keyword arg: x. From version 0.12, the only valid positional argument will be `data`, and passing other arguments without an explicit keyword will result in an error or misinterpretation.\n",
      "  warnings.warn(\n"
     ]
    },
    {
     "data": {
      "text/plain": [
       "<matplotlib.axes._subplots.AxesSubplot at 0x1d7aa9a0>"
      ]
     },
     "execution_count": 21,
     "metadata": {},
     "output_type": "execute_result"
    },
    {
     "data": {
      "image/png": "[encoded data removed]",
      "text/plain": [
       "<Figure size 432x288 with 1 Axes>"
      ]
     },
     "metadata": {
      "needs_background": "light"
     },
     "output_type": "display_data"
    }
   ],
   "source": [
    "sns.boxplot(df['Tn'])"
   ]
  },
  {
   "cell_type": "code",
   "execution_count": 22,
   "metadata": {
    "colab": {
     "base_uri": "https://localhost:8080/",
     "height": 351
    },
    "id": "Gmamrd5xQv_c",
    "outputId": "eefc4d47-6b6e-490c-ba9d-290e698aa390"
   },
   "outputs": [
    {
     "name": "stderr",
     "output_type": "stream",
     "text": [
      "c:\\users\\faishal raihan\\appdata\\local\\programs\\python\\python38-32\\lib\\site-packages\\seaborn\\_decorators.py:36: FutureWarning: Pass the following variable as a keyword arg: x. From version 0.12, the only valid positional argument will be `data`, and passing other arguments without an explicit keyword will result in an error or misinterpretation.\n",
      "  warnings.warn(\n"
     ]
    },
    {
     "data": {
      "text/plain": [
       "<matplotlib.axes._subplots.AxesSubplot at 0x1d52af58>"
      ]
     },
     "execution_count": 22,
     "metadata": {},
     "output_type": "execute_result"
    },
    {
     "data": {
      "image/png": "[encoded data removed]",
      "text/plain": [
       "<Figure size 432x288 with 1 Axes>"
      ]
     },
     "metadata": {
      "needs_background": "light"
     },
     "output_type": "display_data"
    }
   ],
   "source": [
    "sns.boxplot(df['Tx'])"
   ]
  },
  {
   "cell_type": "code",
   "execution_count": 23,
   "metadata": {
    "colab": {
     "base_uri": "https://localhost:8080/",
     "height": 351
    },
    "id": "0KgViPqsRLZX",
    "outputId": "93e97c46-8f25-410b-dfdf-d1d1c1a5184d"
   },
   "outputs": [
    {
     "name": "stderr",
     "output_type": "stream",
     "text": [
      "c:\\users\\faishal raihan\\appdata\\local\\programs\\python\\python38-32\\lib\\site-packages\\seaborn\\_decorators.py:36: FutureWarning: Pass the following variable as a keyword arg: x. From version 0.12, the only valid positional argument will be `data`, and passing other arguments without an explicit keyword will result in an error or misinterpretation.\n",
      "  warnings.warn(\n"
     ]
    },
    {
     "data": {
      "text/plain": [
       "<matplotlib.axes._subplots.AxesSubplot at 0x1d564dc0>"
      ]
     },
     "execution_count": 23,
     "metadata": {},
     "output_type": "execute_result"
    },
    {
     "data": {
      "image/png": "[encoded data removed]",
      "text/plain": [
       "<Figure size 432x288 with 1 Axes>"
      ]
     },
     "metadata": {
      "needs_background": "light"
     },
     "output_type": "display_data"
    }
   ],
   "source": [
    "sns.boxplot(df['Tavg'])"
   ]
  },
  {
   "cell_type": "code",
   "execution_count": 24,
   "metadata": {
    "colab": {
     "base_uri": "https://localhost:8080/",
     "height": 352
    },
    "id": "xOMbvyi9Rcef",
    "outputId": "6afb6d10-96b2-48bf-da78-e124d8e08ba6"
   },
   "outputs": [
    {
     "name": "stderr",
     "output_type": "stream",
     "text": [
      "c:\\users\\faishal raihan\\appdata\\local\\programs\\python\\python38-32\\lib\\site-packages\\seaborn\\_decorators.py:36: FutureWarning: Pass the following variable as a keyword arg: x. From version 0.12, the only valid positional argument will be `data`, and passing other arguments without an explicit keyword will result in an error or misinterpretation.\n",
      "  warnings.warn(\n"
     ]
    },
    {
     "data": {
      "text/plain": [
       "<matplotlib.axes._subplots.AxesSubplot at 0x1d59a910>"
      ]
     },
     "execution_count": 24,
     "metadata": {},
     "output_type": "execute_result"
    },
    {
     "data": {
      "image/png": "[encoded data removed]",
      "text/plain": [
       "<Figure size 432x288 with 1 Axes>"
      ]
     },
     "metadata": {
      "needs_background": "light"
     },
     "output_type": "display_data"
    }
   ],
   "source": [
    "sns.boxplot(df['RH_avg'])"
   ]
  },
  {
   "cell_type": "code",
   "execution_count": 25,
   "metadata": {
    "colab": {
     "base_uri": "https://localhost:8080/",
     "height": 351
    },
    "id": "xskEgj3pRfj7",
    "outputId": "9ef45840-0a94-4b84-cfaf-ad0898ac0150"
   },
   "outputs": [
    {
     "name": "stderr",
     "output_type": "stream",
     "text": [
      "c:\\users\\faishal raihan\\appdata\\local\\programs\\python\\python38-32\\lib\\site-packages\\seaborn\\_decorators.py:36: FutureWarning: Pass the following variable as a keyword arg: x. From version 0.12, the only valid positional argument will be `data`, and passing other arguments without an explicit keyword will result in an error or misinterpretation.\n",
      "  warnings.warn(\n"
     ]
    },
    {
     "data": {
      "text/plain": [
       "<matplotlib.axes._subplots.AxesSubplot at 0x1d780ec8>"
      ]
     },
     "execution_count": 25,
     "metadata": {},
     "output_type": "execute_result"
    },
    {
     "data": {
      "image/png": "[encoded data removed]",
      "text/plain": [
       "<Figure size 432x288 with 1 Axes>"
      ]
     },
     "metadata": {
      "needs_background": "light"
     },
     "output_type": "display_data"
    }
   ],
   "source": [
    "sns.boxplot(df['ss'])"
   ]
  },
  {
   "cell_type": "markdown",
   "metadata": {
    "id": "153xEFfCRjWs"
   },
   "source": [
    "Dikarenakan data outlier hanya sedikit dan masih dalam range normal, maka data tersebut tetap dipakai."
   ]
  },
  {
   "cell_type": "markdown",
   "metadata": {
    "id": "R4s8FuoIhJQz"
   },
   "source": [
    "#Scaling Data"
   ]
  },
  {
   "cell_type": "code",
   "execution_count": 26,
   "metadata": {
    "id": "wvZaqzSGf9uj"
   },
   "outputs": [],
   "source": [
    "# data = df.drop(columns=['Tanggal'])"
   ]
  },
  {
   "cell_type": "code",
   "execution_count": 27,
   "metadata": {
    "colab": {
     "base_uri": "https://localhost:8080/",
     "height": 423
    },
    "id": "qvtz_4L0cooR",
    "outputId": "15cdaf73-18c5-419a-868e-eb329ce05a4a"
   },
   "outputs": [],
   "source": [
    "# scaler = StandardScaler()\n",
    "# data_scaler = scaler.fit_transform(data)\n",
    "# data_scaler = pd.DataFrame(data_scaler,columns=['Tn','Tx','Tavg','RH_avg','ss'])\n",
    "# data_scaler\n",
    "# #Tn\tTx\tTavg\tRH_avg\tss"
   ]
  },
  {
   "cell_type": "code",
   "execution_count": 28,
   "metadata": {
    "colab": {
     "base_uri": "https://localhost:8080/",
     "height": 423
    },
    "id": "VRZ_QTyAgmWl",
    "outputId": "c74ad867-a604-4e53-a0b0-ce2c3d9fc35e"
   },
   "outputs": [],
   "source": [
    "# data = pd.concat([df['Tanggal'], data_scaler], axis=1)\n",
    "# data"
   ]
  },
  {
   "cell_type": "markdown",
   "metadata": {
    "id": "OLY8XN2sjv6S"
   },
   "source": [
    "#Eksplorasi Data"
   ]
  },
  {
   "cell_type": "code",
   "execution_count": 29,
   "metadata": {
    "colab": {
     "base_uri": "https://localhost:8080/",
     "height": 296
    },
    "id": "ANCN38cJh3kn",
    "outputId": "9cd7b17c-d28b-4f83-a0f4-f83d2b2c0c4f"
   },
   "outputs": [
    {
     "data": {
      "text/plain": [
       "<matplotlib.axes._subplots.AxesSubplot at 0x1d772f10>"
      ]
     },
     "execution_count": 29,
     "metadata": {},
     "output_type": "execute_result"
    },
    {
     "data": {
      "image/png": "[encoded data removed]",
      "text/plain": [
       "<Figure size 432x288 with 1 Axes>"
      ]
     },
     "metadata": {
      "needs_background": "light"
     },
     "output_type": "display_data"
    }
   ],
   "source": [
    "sns.lineplot(data=data, x=\"Tanggal\", y=\"Tavg\")"
   ]
  },
  {
   "cell_type": "code",
   "execution_count": 30,
   "metadata": {
    "colab": {
     "base_uri": "https://localhost:8080/",
     "height": 296
    },
    "id": "OP4OumKGjFA_",
    "outputId": "2a4ec789-2449-4535-98be-a06aa2c01fea"
   },
   "outputs": [
    {
     "data": {
      "text/plain": [
       "<matplotlib.axes._subplots.AxesSubplot at 0x1d652310>"
      ]
     },
     "execution_count": 30,
     "metadata": {},
     "output_type": "execute_result"
    },
    {
     "data": {
      "image/png": "[encoded data removed]",
      "text/plain": [
       "<Figure size 432x288 with 1 Axes>"
      ]
     },
     "metadata": {
      "needs_background": "light"
     },
     "output_type": "display_data"
    }
   ],
   "source": [
    "sns.lineplot(data=data, x=\"Tanggal\", y=\"Tx\")"
   ]
  },
  {
   "cell_type": "code",
   "execution_count": 31,
   "metadata": {
    "colab": {
     "base_uri": "https://localhost:8080/",
     "height": 296
    },
    "id": "HuzJskBdjNoW",
    "outputId": "c8a3a97f-5139-49cf-e7ba-c99491589df2"
   },
   "outputs": [
    {
     "data": {
      "text/plain": [
       "<matplotlib.axes._subplots.AxesSubplot at 0x1d69ff10>"
      ]
     },
     "execution_count": 31,
     "metadata": {},
     "output_type": "execute_result"
    },
    {
     "data": {
      "image/png": "[encoded data removed]",
      "text/plain": [
       "<Figure size 432x288 with 1 Axes>"
      ]
     },
     "metadata": {
      "needs_background": "light"
     },
     "output_type": "display_data"
    }
   ],
   "source": [
    "sns.lineplot(data=data, x=\"Tanggal\", y=\"Tn\")"
   ]
  },
  {
   "cell_type": "code",
   "execution_count": 32,
   "metadata": {
    "colab": {
     "base_uri": "https://localhost:8080/",
     "height": 296
    },
    "id": "scMxzpJFkWFc",
    "outputId": "083b5337-525e-4a9f-d82d-1c50cbe982d7"
   },
   "outputs": [
    {
     "data": {
      "text/plain": [
       "<matplotlib.axes._subplots.AxesSubplot at 0x1d9231c0>"
      ]
     },
     "execution_count": 32,
     "metadata": {},
     "output_type": "execute_result"
    },
    {
     "data": {
      "image/png": "[encoded data removed]",
      "text/plain": [
       "<Figure size 432x288 with 1 Axes>"
      ]
     },
     "metadata": {
      "needs_background": "light"
     },
     "output_type": "display_data"
    }
   ],
   "source": [
    "sns.lineplot(data=data, x=\"Tanggal\", y=\"RH_avg\")"
   ]
  },
  {
   "cell_type": "code",
   "execution_count": 33,
   "metadata": {
    "colab": {
     "base_uri": "https://localhost:8080/",
     "height": 296
    },
    "id": "YXW9jR1yjrte",
    "outputId": "bbe03f18-f882-4906-ce59-163af26d3f51"
   },
   "outputs": [
    {
     "data": {
      "text/plain": [
       "<matplotlib.axes._subplots.AxesSubplot at 0x1d951388>"
      ]
     },
     "execution_count": 33,
     "metadata": {},
     "output_type": "execute_result"
    },
    {
     "data": {
      "image/png": "[encoded data removed]",
      "text/plain": [
       "<Figure size 432x288 with 1 Axes>"
      ]
     },
     "metadata": {
      "needs_background": "light"
     },
     "output_type": "display_data"
    }
   ],
   "source": [
    "sns.histplot(data=data, x=\"Tn\")"
   ]
  },
  {
   "cell_type": "code",
   "execution_count": 34,
   "metadata": {
    "colab": {
     "base_uri": "https://localhost:8080/",
     "height": 296
    },
    "id": "_PnFZFr1kJ3f",
    "outputId": "fced6581-b490-4674-95cf-0fe1b12da359"
   },
   "outputs": [
    {
     "data": {
      "text/plain": [
       "<matplotlib.axes._subplots.AxesSubplot at 0x1d99fc40>"
      ]
     },
     "execution_count": 34,
     "metadata": {},
     "output_type": "execute_result"
    },
    {
     "data": {
      "image/png": "[encoded data removed]",
      "text/plain": [
       "<Figure size 432x288 with 1 Axes>"
      ]
     },
     "metadata": {
      "needs_background": "light"
     },
     "output_type": "display_data"
    }
   ],
   "source": [
    "sns.histplot(data=data, x=\"Tx\")"
   ]
  },
  {
   "cell_type": "code",
   "execution_count": 35,
   "metadata": {
    "colab": {
     "base_uri": "https://localhost:8080/",
     "height": 296
    },
    "id": "hp3VD99ykNca",
    "outputId": "ca8a8e30-4d9a-473a-ce08-c4b777dbef15"
   },
   "outputs": [
    {
     "data": {
      "text/plain": [
       "<matplotlib.axes._subplots.AxesSubplot at 0x1d9fd1a8>"
      ]
     },
     "execution_count": 35,
     "metadata": {},
     "output_type": "execute_result"
    },
    {
     "data": {
      "image/png": "[encoded data removed]",
      "text/plain": [
       "<Figure size 432x288 with 1 Axes>"
      ]
     },
     "metadata": {
      "needs_background": "light"
     },
     "output_type": "display_data"
    }
   ],
   "source": [
    "sns.histplot(data=data, x=\"Tavg\")"
   ]
  },
  {
   "cell_type": "code",
   "execution_count": 36,
   "metadata": {
    "colab": {
     "base_uri": "https://localhost:8080/",
     "height": 298
    },
    "id": "hVKZE8VNkRwK",
    "outputId": "d8310cfa-0f55-41e5-c8cb-ff2eac025e47"
   },
   "outputs": [
    {
     "data": {
      "text/plain": [
       "<matplotlib.axes._subplots.AxesSubplot at 0x1da1f8f8>"
      ]
     },
     "execution_count": 36,
     "metadata": {},
     "output_type": "execute_result"
    },
    {
     "data": {
      "image/png": "[encoded data removed]",
      "text/plain": [
       "<Figure size 432x288 with 1 Axes>"
      ]
     },
     "metadata": {
      "needs_background": "light"
     },
     "output_type": "display_data"
    }
   ],
   "source": [
    "sns.histplot(data=data, x=\"RH_avg\")"
   ]
  },
  {
   "cell_type": "markdown",
   "metadata": {
    "id": "3QjeSGR1xe-1"
   },
   "source": [
    "#Pemodelan"
   ]
  },
  {
   "cell_type": "code",
   "execution_count": 37,
   "metadata": {
    "colab": {
     "base_uri": "https://localhost:8080/",
     "height": 206
    },
    "id": "eDTBBwb-B4gM",
    "outputId": "9be53beb-8775-4736-c68d-733634235c1c"
   },
   "outputs": [
    {
     "data": {
      "text/html": [
       "<div>\n",
       "<style scoped>\n",
       "    .dataframe tbody tr th:only-of-type {\n",
       "        vertical-align: middle;\n",
       "    }\n",
       "\n",
       "    .dataframe tbody tr th {\n",
       "        vertical-align: top;\n",
       "    }\n",
       "\n",
       "    .dataframe thead th {\n",
       "        text-align: right;\n",
       "    }\n",
       "</style>\n",
       "<table border=\"1\" class=\"dataframe\">\n",
       "  <thead>\n",
       "    <tr style=\"text-align: right;\">\n",
       "      <th></th>\n",
       "      <th>Tanggal</th>\n",
       "      <th>Tn</th>\n",
       "      <th>Tx</th>\n",
       "      <th>Tavg</th>\n",
       "      <th>RH_avg</th>\n",
       "      <th>ss</th>\n",
       "    </tr>\n",
       "  </thead>\n",
       "  <tbody>\n",
       "    <tr>\n",
       "      <th>179</th>\n",
       "      <td>2020-12-27</td>\n",
       "      <td>25.6</td>\n",
       "      <td>32.4</td>\n",
       "      <td>29.4</td>\n",
       "      <td>70.0</td>\n",
       "      <td>4.8</td>\n",
       "    </tr>\n",
       "    <tr>\n",
       "      <th>180</th>\n",
       "      <td>2020-12-28</td>\n",
       "      <td>26.4</td>\n",
       "      <td>33.0</td>\n",
       "      <td>29.1</td>\n",
       "      <td>70.0</td>\n",
       "      <td>7.0</td>\n",
       "    </tr>\n",
       "    <tr>\n",
       "      <th>181</th>\n",
       "      <td>2020-12-29</td>\n",
       "      <td>26.4</td>\n",
       "      <td>32.0</td>\n",
       "      <td>28.3</td>\n",
       "      <td>73.0</td>\n",
       "      <td>5.3</td>\n",
       "    </tr>\n",
       "    <tr>\n",
       "      <th>182</th>\n",
       "      <td>2020-12-30</td>\n",
       "      <td>25.6</td>\n",
       "      <td>32.6</td>\n",
       "      <td>28.0</td>\n",
       "      <td>75.0</td>\n",
       "      <td>1.5</td>\n",
       "    </tr>\n",
       "    <tr>\n",
       "      <th>183</th>\n",
       "      <td>2020-12-31</td>\n",
       "      <td>25.6</td>\n",
       "      <td>30.2</td>\n",
       "      <td>26.5</td>\n",
       "      <td>83.0</td>\n",
       "      <td>0.2</td>\n",
       "    </tr>\n",
       "  </tbody>\n",
       "</table>\n",
       "</div>"
      ],
      "text/plain": [
       "       Tanggal    Tn    Tx  Tavg  RH_avg   ss\n",
       "179 2020-12-27  25.6  32.4  29.4    70.0  4.8\n",
       "180 2020-12-28  26.4  33.0  29.1    70.0  7.0\n",
       "181 2020-12-29  26.4  32.0  28.3    73.0  5.3\n",
       "182 2020-12-30  25.6  32.6  28.0    75.0  1.5\n",
       "183 2020-12-31  25.6  30.2  26.5    83.0  0.2"
      ]
     },
     "execution_count": 37,
     "metadata": {},
     "output_type": "execute_result"
    }
   ],
   "source": [
    "df = df.sort_values('Tanggal')\n",
    "df.tail()"
   ]
  },
  {
   "cell_type": "code",
   "execution_count": 38,
   "metadata": {},
   "outputs": [],
   "source": [
    "# data = df.drop(columns=['RR','ff_x','ddd_x','ff_avg','ddd_car'])\n",
    "# data.head()"
   ]
  },
  {
   "cell_type": "code",
   "execution_count": 39,
   "metadata": {},
   "outputs": [
    {
     "data": {
      "text/plain": [
       "Tanggal    0\n",
       "Tn         0\n",
       "Tx         0\n",
       "Tavg       0\n",
       "RH_avg     0\n",
       "ss         0\n",
       "dtype: int64"
      ]
     },
     "execution_count": 39,
     "metadata": {},
     "output_type": "execute_result"
    }
   ],
   "source": [
    "df.isna().sum()"
   ]
  },
  {
   "cell_type": "code",
   "execution_count": 40,
   "metadata": {
    "colab": {
     "base_uri": "https://localhost:8080/",
     "height": 458
    },
    "id": "pVL0hJihf6sJ",
    "outputId": "640df97f-7851-480f-94d1-ea1179110dfb"
   },
   "outputs": [
    {
     "data": {
      "text/html": [
       "<div>\n",
       "<style scoped>\n",
       "    .dataframe tbody tr th:only-of-type {\n",
       "        vertical-align: middle;\n",
       "    }\n",
       "\n",
       "    .dataframe tbody tr th {\n",
       "        vertical-align: top;\n",
       "    }\n",
       "\n",
       "    .dataframe thead th {\n",
       "        text-align: right;\n",
       "    }\n",
       "</style>\n",
       "<table border=\"1\" class=\"dataframe\">\n",
       "  <thead>\n",
       "    <tr style=\"text-align: right;\">\n",
       "      <th></th>\n",
       "      <th>Tn</th>\n",
       "      <th>Tx</th>\n",
       "      <th>RH_avg</th>\n",
       "      <th>ss</th>\n",
       "    </tr>\n",
       "    <tr>\n",
       "      <th>Tanggal</th>\n",
       "      <th></th>\n",
       "      <th></th>\n",
       "      <th></th>\n",
       "      <th></th>\n",
       "    </tr>\n",
       "  </thead>\n",
       "  <tbody>\n",
       "    <tr>\n",
       "      <th>2019-01-01</th>\n",
       "      <td>24.0</td>\n",
       "      <td>30.6</td>\n",
       "      <td>84.0</td>\n",
       "      <td>5.5</td>\n",
       "    </tr>\n",
       "    <tr>\n",
       "      <th>2019-01-02</th>\n",
       "      <td>25.0</td>\n",
       "      <td>31.0</td>\n",
       "      <td>83.0</td>\n",
       "      <td>3.5</td>\n",
       "    </tr>\n",
       "    <tr>\n",
       "      <th>2019-01-03</th>\n",
       "      <td>26.8</td>\n",
       "      <td>31.0</td>\n",
       "      <td>80.0</td>\n",
       "      <td>5.0</td>\n",
       "    </tr>\n",
       "    <tr>\n",
       "      <th>2019-01-04</th>\n",
       "      <td>26.6</td>\n",
       "      <td>32.6</td>\n",
       "      <td>76.0</td>\n",
       "      <td>4.5</td>\n",
       "    </tr>\n",
       "    <tr>\n",
       "      <th>2019-01-05</th>\n",
       "      <td>26.0</td>\n",
       "      <td>31.4</td>\n",
       "      <td>76.0</td>\n",
       "      <td>1.5</td>\n",
       "    </tr>\n",
       "  </tbody>\n",
       "</table>\n",
       "</div>"
      ],
      "text/plain": [
       "              Tn    Tx  RH_avg   ss\n",
       "Tanggal                            \n",
       "2019-01-01  24.0  30.6    84.0  5.5\n",
       "2019-01-02  25.0  31.0    83.0  3.5\n",
       "2019-01-03  26.8  31.0    80.0  5.0\n",
       "2019-01-04  26.6  32.6    76.0  4.5\n",
       "2019-01-05  26.0  31.4    76.0  1.5"
      ]
     },
     "metadata": {},
     "output_type": "display_data"
    },
    {
     "data": {
      "text/html": [
       "<div>\n",
       "<style scoped>\n",
       "    .dataframe tbody tr th:only-of-type {\n",
       "        vertical-align: middle;\n",
       "    }\n",
       "\n",
       "    .dataframe tbody tr th {\n",
       "        vertical-align: top;\n",
       "    }\n",
       "\n",
       "    .dataframe thead th {\n",
       "        text-align: right;\n",
       "    }\n",
       "</style>\n",
       "<table border=\"1\" class=\"dataframe\">\n",
       "  <thead>\n",
       "    <tr style=\"text-align: right;\">\n",
       "      <th></th>\n",
       "      <th>Tavg</th>\n",
       "    </tr>\n",
       "    <tr>\n",
       "      <th>Tanggal</th>\n",
       "      <th></th>\n",
       "    </tr>\n",
       "  </thead>\n",
       "  <tbody>\n",
       "    <tr>\n",
       "      <th>2019-01-01</th>\n",
       "      <td>26.0</td>\n",
       "    </tr>\n",
       "    <tr>\n",
       "      <th>2019-01-02</th>\n",
       "      <td>27.0</td>\n",
       "    </tr>\n",
       "    <tr>\n",
       "      <th>2019-01-03</th>\n",
       "      <td>28.3</td>\n",
       "    </tr>\n",
       "    <tr>\n",
       "      <th>2019-01-04</th>\n",
       "      <td>28.3</td>\n",
       "    </tr>\n",
       "    <tr>\n",
       "      <th>2019-01-05</th>\n",
       "      <td>28.6</td>\n",
       "    </tr>\n",
       "  </tbody>\n",
       "</table>\n",
       "</div>"
      ],
      "text/plain": [
       "            Tavg\n",
       "Tanggal         \n",
       "2019-01-01  26.0\n",
       "2019-01-02  27.0\n",
       "2019-01-03  28.3\n",
       "2019-01-04  28.3\n",
       "2019-01-05  28.6"
      ]
     },
     "metadata": {},
     "output_type": "display_data"
    }
   ],
   "source": [
    "X = df.drop(columns=['Tavg'],axis=1)\n",
    "y = pd.DataFrame(data=df[['Tavg','Tanggal']])\n",
    "y = y.set_index('Tanggal')\n",
    "y.sort_index()\n",
    "X = X.set_index('Tanggal')\n",
    "X.sort_index(axis=0,ascending=False)\n",
    "# data.index\n",
    "display(X.head())\n",
    "display(y.head())"
   ]
  },
  {
   "cell_type": "code",
   "execution_count": 41,
   "metadata": {
    "id": "O1BIPPrtaveC"
   },
   "outputs": [],
   "source": [
    "X_train, X_test, y_train, y_test = train_test_split(X, y,test_size=0.3, shuffle=False)"
   ]
  },
  {
   "cell_type": "code",
   "execution_count": 42,
   "metadata": {
    "colab": {
     "base_uri": "https://localhost:8080/"
    },
    "id": "MZqkj-vHe99T",
    "outputId": "ada417be-17a4-45f8-9591-185a23119332"
   },
   "outputs": [
    {
     "name": "stderr",
     "output_type": "stream",
     "text": [
      "c:\\users\\faishal raihan\\appdata\\local\\programs\\python\\python38-32\\lib\\site-packages\\sklearn\\utils\\validation.py:63: DataConversionWarning: A column-vector y was passed when a 1d array was expected. Please change the shape of y to (n_samples, ), for example using ravel().\n",
      "  return f(*args, **kwargs)\n"
     ]
    },
    {
     "name": "stdout",
     "output_type": "stream",
     "text": [
      "Iteration 1, loss = 68.27697687\n",
      "Validation score: -22.465955\n",
      "Iteration 2, loss = 2.84293586\n",
      "Validation score: -3.923129\n",
      "Iteration 3, loss = 1.74092844\n",
      "Validation score: -3.106284\n",
      "Iteration 4, loss = 1.59980223\n",
      "Validation score: -2.483333\n",
      "Iteration 5, loss = 1.37106301\n",
      "Validation score: -2.039064\n",
      "Iteration 6, loss = 1.07995333\n",
      "Validation score: -1.220519\n",
      "Iteration 7, loss = 0.84169656\n",
      "Validation score: -0.674604\n",
      "Iteration 8, loss = 0.76087690\n",
      "Validation score: -0.893964\n",
      "Iteration 9, loss = 0.57044597\n",
      "Validation score: -0.160137\n",
      "Iteration 10, loss = 0.44902700\n",
      "Validation score: -0.063097\n",
      "Iteration 11, loss = 0.36415750\n",
      "Validation score: 0.234232\n",
      "Iteration 12, loss = 0.27068143\n",
      "Validation score: 0.382599\n",
      "Iteration 13, loss = 0.21612252\n",
      "Validation score: 0.482556\n",
      "Iteration 14, loss = 0.17345563\n",
      "Validation score: 0.529552\n",
      "Iteration 15, loss = 0.14662468\n",
      "Validation score: 0.595884\n",
      "Iteration 16, loss = 0.14514023\n",
      "Validation score: 0.542836\n",
      "Iteration 17, loss = 0.13530056\n",
      "Validation score: 0.619139\n",
      "Iteration 18, loss = 0.12200652\n",
      "Validation score: 0.647877\n",
      "Iteration 19, loss = 0.11681912\n",
      "Validation score: 0.648248\n",
      "Iteration 20, loss = 0.12463807\n",
      "Validation score: 0.644743\n",
      "Iteration 21, loss = 0.11362576\n",
      "Validation score: 0.617502\n",
      "Iteration 22, loss = 0.11360516\n",
      "Validation score: 0.613506\n",
      "Iteration 23, loss = 0.13366342\n",
      "Validation score: 0.647278\n",
      "Iteration 24, loss = 0.11200614\n",
      "Validation score: 0.646931\n",
      "Iteration 25, loss = 0.12035073\n",
      "Validation score: 0.646822\n",
      "Iteration 26, loss = 0.12969656\n",
      "Validation score: 0.500878\n",
      "Iteration 27, loss = 0.14999282\n",
      "Validation score: 0.336480\n",
      "Iteration 28, loss = 0.13062371\n",
      "Validation score: 0.643608\n",
      "Iteration 29, loss = 0.11193973\n",
      "Validation score: 0.630119\n",
      "Validation score did not improve more than tol=0.001000 for 10 consecutive epochs. Stopping.\n"
     ]
    },
    {
     "data": {
      "text/plain": [
       "0.7300625359159726"
      ]
     },
     "execution_count": 42,
     "metadata": {},
     "output_type": "execute_result"
    }
   ],
   "source": [
    "clf=MLPRegressor(hidden_layer_sizes=(900,7), activation='relu',\n",
    "             solver='adam',alpha=0.001, \n",
    "             batch_size=13, learning_rate='constant',learning_rate_init=0.001, \n",
    "             max_iter=1000, shuffle=True,random_state=5, tol=0.001, \n",
    "             early_stopping=True,\n",
    "             verbose=True,\n",
    "             validation_fraction=0.2\n",
    "             )\n",
    "clf.fit(X_train,y_train)\n",
    "clf.predict(X_test)\n",
    "clf.score(X_test, y_test)"
   ]
  },
  {
   "cell_type": "code",
   "execution_count": 43,
   "metadata": {
    "colab": {
     "base_uri": "https://localhost:8080/",
     "height": 238
    },
    "id": "BfkxAjgsEpPU",
    "outputId": "bc236f6a-f066-4a8c-dbb6-ba8ec58a37ac"
   },
   "outputs": [
    {
     "data": {
      "text/html": [
       "<div>\n",
       "<style scoped>\n",
       "    .dataframe tbody tr th:only-of-type {\n",
       "        vertical-align: middle;\n",
       "    }\n",
       "\n",
       "    .dataframe tbody tr th {\n",
       "        vertical-align: top;\n",
       "    }\n",
       "\n",
       "    .dataframe thead th {\n",
       "        text-align: right;\n",
       "    }\n",
       "</style>\n",
       "<table border=\"1\" class=\"dataframe\">\n",
       "  <thead>\n",
       "    <tr style=\"text-align: right;\">\n",
       "      <th></th>\n",
       "      <th>Actual</th>\n",
       "      <th>predict</th>\n",
       "    </tr>\n",
       "    <tr>\n",
       "      <th>Tanggal</th>\n",
       "      <th></th>\n",
       "      <th></th>\n",
       "    </tr>\n",
       "  </thead>\n",
       "  <tbody>\n",
       "    <tr>\n",
       "      <th>2020-05-26</th>\n",
       "      <td>29.9</td>\n",
       "      <td>29.655172</td>\n",
       "    </tr>\n",
       "    <tr>\n",
       "      <th>2020-05-27</th>\n",
       "      <td>29.5</td>\n",
       "      <td>29.423500</td>\n",
       "    </tr>\n",
       "    <tr>\n",
       "      <th>2020-05-28</th>\n",
       "      <td>29.8</td>\n",
       "      <td>29.235061</td>\n",
       "    </tr>\n",
       "    <tr>\n",
       "      <th>2020-05-29</th>\n",
       "      <td>29.6</td>\n",
       "      <td>30.107126</td>\n",
       "    </tr>\n",
       "    <tr>\n",
       "      <th>2020-05-30</th>\n",
       "      <td>29.6</td>\n",
       "      <td>29.646528</td>\n",
       "    </tr>\n",
       "  </tbody>\n",
       "</table>\n",
       "</div>"
      ],
      "text/plain": [
       "            Actual    predict\n",
       "Tanggal                      \n",
       "2020-05-26    29.9  29.655172\n",
       "2020-05-27    29.5  29.423500\n",
       "2020-05-28    29.8  29.235061\n",
       "2020-05-29    29.6  30.107126\n",
       "2020-05-30    29.6  29.646528"
      ]
     },
     "execution_count": 43,
     "metadata": {},
     "output_type": "execute_result"
    }
   ],
   "source": [
    "pred = clf.predict(X_test)\n",
    "result = pd.DataFrame()\n",
    "result['Actual'] = y_test['Tavg']\n",
    "result['predict'] = pred\n",
    "result.index = y_test.index\n",
    "result.head()"
   ]
  },
  {
   "cell_type": "code",
   "execution_count": 44,
   "metadata": {
    "colab": {
     "base_uri": "https://localhost:8080/",
     "height": 490
    },
    "id": "TE-xTnm6GN2y",
    "outputId": "20857359-99fb-4868-f496-5edb4dcfa928"
   },
   "outputs": [
    {
     "data": {
      "image/png": "[encoded data removed]",
      "text/plain": [
       "<Figure size 1440x720 with 1 Axes>"
      ]
     },
     "metadata": {
      "needs_background": "light"
     },
     "output_type": "display_data"
    }
   ],
   "source": [
    "plt.figure(figsize=(20,10))\n",
    "plt.plot(result.index,result.Actual,label=\"Actual\",color='red')\n",
    "plt.plot(result.predict,label=\"predict\",color='blue')\n",
    "plt.legend()\n",
    "plt.title('Perbandingan data prediksi dengan data sebenarnya')\n",
    "plt.show()"
   ]
  },
  {
   "cell_type": "markdown",
   "metadata": {
    "id": "G_l4CUso0XQY"
   },
   "source": [
    "#Hasil evaluasi model :"
   ]
  },
  {
   "cell_type": "code",
   "execution_count": 45,
   "metadata": {
    "id": "0E6NNH0GIOST"
   },
   "outputs": [],
   "source": [
    "MAPE = mean_absolute_percentage_error(y_test,pred)\n",
    "RMSE = np.sqrt(mean_squared_error(y_test,pred))\n",
    "acc, _ = pearsonr(result['Actual'], result['predict'])"
   ]
  },
  {
   "cell_type": "code",
   "execution_count": 46,
   "metadata": {
    "colab": {
     "base_uri": "https://localhost:8080/"
    },
    "id": "OuAfso7VzPox",
    "outputId": "09194a0a-f114-4931-f470-fac5db984f08"
   },
   "outputs": [
    {
     "name": "stdout",
     "output_type": "stream",
     "text": [
      "MAPE :  0.012150786266545715\n",
      "RMSE :  0.47272747510138446\n",
      "Accuracy :  85.73454162558822\n"
     ]
    }
   ],
   "source": [
    "print(\"MAPE : \",MAPE)\n",
    "print(\"RMSE : \",RMSE)\n",
    "print(\"Accuracy : \",acc*100)"
   ]
  },
  {
   "cell_type": "code",
   "execution_count": 49,
   "metadata": {
    "id": "PfWo-Etm0LIU"
   },
   "outputs": [],
   "source": [
    "import pickle\n",
    "with open('mlp_model.pkl', 'wb') as file:\n",
    "    pickle.dump(clf, file)"
   ]
  }
 ],
 "metadata": {
  "colab": {
   "collapsed_sections": [],
   "name": "TelU01_Assignment Tugas Akhir 4_Kelompok 4.ipynb",
   "provenance": []
  },
  "kernelspec": {
   "display_name": "Python 3",
   "language": "python",
   "name": "python3"
  },
  "language_info": {
   "codemirror_mode": {
    "name": "ipython",
    "version": 3
   },
   "file_extension": ".py",
   "mimetype": "text/x-python",
   "name": "python",
   "nbconvert_exporter": "python",
   "pygments_lexer": "ipython3",
   "version": "3.8.2"
  }
 },
 "nbformat": 4,
 "nbformat_minor": 1
}
